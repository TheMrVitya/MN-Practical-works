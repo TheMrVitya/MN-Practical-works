{
 "cells": [
  {
   "cell_type": "code",
   "execution_count": 3,
   "metadata": {},
   "outputs": [
    {
     "name": "stdout",
     "output_type": "stream",
     "text": [
      "   Довжина чашолистника (см)  Ширина чашолистника (см)  Довжина пелюстки (см)  \\\n",
      "0                   5.648344                  4.179838               1.304922   \n",
      "1                   7.722572                  2.574949               4.134992   \n",
      "2                   6.935178                  2.347748               4.189747   \n",
      "3                   6.455171                  3.174687               4.760836   \n",
      "4                   4.861667                  4.365561               5.283939   \n",
      "\n",
      "   Ширина пелюстки (см)              Клас  \n",
      "0              1.965153       Iris-Setosa  \n",
      "1              1.440170  Iris-Versicolour  \n",
      "2              1.118133  Iris-Versicolour  \n",
      "3              2.275251       Iris-Setosa  \n",
      "4              0.366874  Iris-Versicolour  \n"
     ]
    }
   ],
   "source": [
    "import pandas as pd\n",
    "import numpy as np\n",
    "from sklearn.datasets import load_iris\n",
    "from sklearn.model_selection import train_test_split\n",
    "from sklearn.svm import SVC\n",
    "from sklearn.ensemble import RandomForestClassifier\n",
    "from sklearn.metrics import accuracy_score\n",
    "\n",
    "np.random.seed(42)\n",
    "sepal_length = np.random.uniform(4.3, 7.9, 150)\n",
    "sepal_width = np.random.uniform(2.0, 4.4, 150)\n",
    "petal_length = np.random.uniform(1.0, 6.9, 150)\n",
    "petal_width = np.random.uniform(0.1, 2.5, 150)\n",
    "classes = np.random.choice(['Iris-Setosa', 'Iris-Versicolour', 'Iris-Virginica'], 150)\n",
    "iris_data = pd.DataFrame({'Довжина чашолистника (см)': sepal_length,\n",
    "                          'Ширина чашолистника (см)': sepal_width,\n",
    "                          'Довжина пелюстки (см)': petal_length,\n",
    "                          'Ширина пелюстки (см)': petal_width,\n",
    "                          'Клас': classes})\n",
    "print(iris_data.head())\n",
    "iris_data.to_csv('iris_dataset.csv', index=False)"
   ]
  },
  {
   "cell_type": "code",
   "execution_count": 4,
   "metadata": {},
   "outputs": [
    {
     "name": "stdout",
     "output_type": "stream",
     "text": [
      "Точність моделі SVM: 1.0\n",
      "Точність моделі Random Forest: 1.0\n"
     ]
    }
   ],
   "source": [
    "iris_data = load_iris()\n",
    "X = iris_data.data\n",
    "y = iris_data.target\n",
    "X_train, X_test, y_train, y_test = train_test_split(X, y, test_size=0.2, random_state=42)\n",
    "svm_classifier = SVC(kernel='linear', C=1)\n",
    "svm_classifier.fit(X_train, y_train)\n",
    "svm_predictions = svm_classifier.predict(X_test)\n",
    "svm_accuracy = accuracy_score(y_test, svm_predictions)\n",
    "print(\"Точність моделі SVM:\", svm_accuracy)\n",
    "rf_classifier = RandomForestClassifier(n_estimators=100, random_state=42)\n",
    "rf_classifier.fit(X_train, y_train)\n",
    "rf_predictions = rf_classifier.predict(X_test)\n",
    "rf_accuracy = accuracy_score(y_test, rf_predictions)\n",
    "print(\"Точність моделі Random Forest:\", rf_accuracy)"
   ]
  },
  {
   "cell_type": "markdown",
   "metadata": {},
   "source": [
    "Обидва алгоритми дали ідеальний результат на тестовому наборі даних. "
   ]
  },
  {
   "cell_type": "markdown",
   "metadata": {},
   "source": [
    "У завданні 1 була проведена класифікація даних з набору Iris за допомогою алгоритмів SVM і Random Forest. Набір даних Iris включає інформацію про розміри чашолистника та пелюстки трьох видів квітів: Iris-Setosa, Iris-Versicolour і Iris-Virginica.\n",
    "\n",
    "Основні висновки:\n",
    "1. Завантаження даних: Дані успішно завантажено з бібліотеки scikit-learn, містять 150 прикладів з 4 числовими ознаками для кожного з трьох класів квітів.\n",
    "2. Розділення даних: Дані були розділені на тренувальний і тестовий набори для оцінки точності моделей.\n",
    "3. Застосування SVM: Використано алгоритм SVM для класифікації даних. Модель досягла ідеальної точності 100%.\n",
    "4. Застосування Random Forest: Алгоритм Random Forest також застосовано для класифікації даних, і він також досягнув точності 100%.\n",
    "5. Порівняння результатів: Обидві моделі показали високу точність в класифікації Iris, але слід враховувати, що цей набір даних є простим і добре роздільним.\n",
    "\n",
    "У цьому завданні вдалося успішно застосувати алгоритми машинного навчання для класифікації набору даних Iris, отримавши 100% точність. Цей код може бути корисним для тестування та відлагодження алгоритмів, особливо коли вони застосовуються до добре роздільних наборів даних, таких як Iris.\n"
   ]
  }
 ],
 "metadata": {
  "kernelspec": {
   "display_name": "Python 3",
   "language": "python",
   "name": "python3"
  },
  "language_info": {
   "codemirror_mode": {
    "name": "ipython",
    "version": 3
   },
   "file_extension": ".py",
   "mimetype": "text/x-python",
   "name": "python",
   "nbconvert_exporter": "python",
   "pygments_lexer": "ipython3",
   "version": "3.12.0"
  }
 },
 "nbformat": 4,
 "nbformat_minor": 2
}
